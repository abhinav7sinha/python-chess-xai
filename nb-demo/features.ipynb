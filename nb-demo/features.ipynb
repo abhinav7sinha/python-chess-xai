{
 "cells": [
  {
   "cell_type": "code",
   "execution_count": 1,
   "id": "e577c0a4",
   "metadata": {},
   "outputs": [],
   "source": [
    "import chessx.heuristic as psqt"
   ]
  },
  {
   "cell_type": "markdown",
   "id": "240d2f06",
   "metadata": {},
   "source": [
    "Generate explanations for a given FEN"
   ]
  },
  {
   "cell_type": "code",
   "execution_count": 2,
   "id": "5843e553",
   "metadata": {},
   "outputs": [
    {
     "name": "stdout",
     "output_type": "stream",
     "text": [
      "PSQT Explanations:\n",
      "White's Pawn(s) is/are placed at better square(s) than Black\n",
      "White's Bishop(s) is/are placed at better square(s) than Black\n",
      "Black's Knight(s) is/are placed at better square(s) than White\n",
      "White's Queen is/are placed at better square(s) than Black\n"
     ]
    }
   ],
   "source": [
    "fen_str='rn2kb1r/pp2qppp/2p2n2/4p1B1/2B1P3/1QN5/PPP2PPP/R3K2R b KQkq - 1 9'\n",
    "psqt_util=psqt.PSQT(fen_str)\n",
    "\n",
    "# generate list of explanations\n",
    "exp_list=psqt_util.get_explanations()\n",
    "\n",
    "# print explanations\n",
    "print('PSQT Explanations:')\n",
    "for exp in exp_list:\n",
    "    print(exp)"
   ]
  },
  {
   "cell_type": "code",
   "execution_count": null,
   "id": "15755eac",
   "metadata": {},
   "outputs": [],
   "source": []
  }
 ],
 "metadata": {
  "kernelspec": {
   "display_name": "Python 3.9.13 ('python-chess')",
   "language": "python",
   "name": "python3"
  },
  "language_info": {
   "codemirror_mode": {
    "name": "ipython",
    "version": 3
   },
   "file_extension": ".py",
   "mimetype": "text/x-python",
   "name": "python",
   "nbconvert_exporter": "python",
   "pygments_lexer": "ipython3",
   "version": "3.9.13"
  },
  "vscode": {
   "interpreter": {
    "hash": "3c955461adc26c9adf35bf7f118a8cc2d05ffec73cc87626ec5d66cf6cc2e0ba"
   }
  }
 },
 "nbformat": 4,
 "nbformat_minor": 5
}
